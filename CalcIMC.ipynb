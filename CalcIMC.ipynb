{
  "nbformat": 4,
  "nbformat_minor": 0,
  "metadata": {
    "colab": {
      "provenance": [],
      "include_colab_link": true
    },
    "kernelspec": {
      "name": "python3",
      "display_name": "Python 3"
    },
    "language_info": {
      "name": "python"
    }
  },
  "cells": [
    {
      "cell_type": "markdown",
      "metadata": {
        "id": "view-in-github",
        "colab_type": "text"
      },
      "source": [
        "<a href=\"https://colab.research.google.com/github/oiChuva/AULA2GQS/blob/main/CalcIMC.ipynb\" target=\"_parent\"><img src=\"https://colab.research.google.com/assets/colab-badge.svg\" alt=\"Open In Colab\"/></a>"
      ]
    },
    {
      "cell_type": "markdown",
      "source": [
        "Página de código para atividade online do dia 24/02/2025."
      ],
      "metadata": {
        "id": "HF_kwjx8Pkgv"
      }
    },
    {
      "cell_type": "code",
      "execution_count": 1,
      "metadata": {
        "id": "jXh1q1DPOIyn",
        "colab": {
          "base_uri": "https://localhost:8080/"
        },
        "outputId": "f8de0faf-5570-461b-c849-268a78bc35d5"
      },
      "outputs": [
        {
          "name": "stdout",
          "output_type": "stream",
          "text": [
            "Digite a sua altura em metros: 1.7\n",
            "Seu IMC é: 27.68\n",
            "Classificação: Sobrepeso\n",
            "Digite o seu peso em kg: 80\n"
          ]
        }
      ],
      "source": [
        "# Calculadora de Índice de Massa Corporal (IMC)\n",
        "\n",
        "# Função para calcular o IMC\n",
        "def calcular_imc(peso, altura):\n",
        "    \"\"\"\n",
        "    Calcula o Índice de Massa Corporal (IMC) com base no peso e altura fornecidos.\n",
        "\n",
        "    :param peso: Peso da pessoa em quilogramas (kg)\n",
        "    :param altura: Altura da pessoa em metros (m)\n",
        "    :return: Valor do IMC\n",
        "    \"\"\"\n",
        "    imc = peso / (altura ** 2)  # Fórmula do IMC: peso / (altura * altura)\n",
        "    return imc\n",
        "\n",
        "# Função para classificar o IMC\n",
        "def classificar_imc(imc):\n",
        "    \"\"\"\n",
        "    Classifica o IMC em categorias de acordo com a tabela padrão.\n",
        "\n",
        "    :param imc: Valor do IMC calculado\n",
        "    :return: Classificação do IMC\n",
        "    \"\"\"\n",
        "    if imc < 18.5:\n",
        "        return \"Abaixo do peso\"\n",
        "    elif 18.5 <= imc < 24.9:\n",
        "        return \"Peso normal\"\n",
        "    elif 25 <= imc < 29.9:\n",
        "        return \"Sobrepeso\"\n",
        "    elif 30 <= imc < 34.9:\n",
        "        return \"Obesidade grau 1\"\n",
        "    elif 35 <= imc < 39.9:\n",
        "        return \"Obesidade grau 2\"\n",
        "    else:\n",
        "        return \"Obesidade grau 3\"\n",
        "\n",
        "# Entrada de dados pelo usuário\n",
        "try:\n",
        "    peso = float(input(\"Digite o seu peso em kg: \"))  # Solicita o peso em kg\n",
        "    altura = float(input(\"Digite a sua altura em metros: \"))  # Solicita a altura em metros\n",
        "\n",
        "    # Calcula o IMC\n",
        "    imc = calcular_imc(peso, altura)\n",
        "\n",
        "    # Classifica o IMC\n",
        "    classificacao = classificar_imc(imc)\n",
        "\n",
        "    # Exibe o resultado\n",
        "    print(f\"Seu IMC é: {imc:.2f}\")  # Exibe o IMC com duas casas decimais\n",
        "    print(f\"Classificação: {classificacao}\")  # Exibe a classificação do IMC\n",
        "\n",
        "except ValueError:\n",
        "    print(\"Por favor, insira valores numéricos válidos para peso e altura.\")  # Mensagem de erro para entradas inválidas"
      ]
    }
  ]
}