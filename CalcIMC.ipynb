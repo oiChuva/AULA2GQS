{
  "nbformat": 4,
  "nbformat_minor": 0,
  "metadata": {
    "colab": {
      "provenance": [],
      "include_colab_link": true
    },
    "kernelspec": {
      "name": "python3",
      "display_name": "Python 3"
    },
    "language_info": {
      "name": "python"
    }
  },
  "cells": [
    {
      "cell_type": "markdown",
      "metadata": {
        "id": "view-in-github",
        "colab_type": "text"
      },
      "source": [
        "<a href=\"https://colab.research.google.com/github/oiChuva/AULA2GQS/blob/main/CalcIMC.ipynb\" target=\"_parent\"><img src=\"https://colab.research.google.com/assets/colab-badge.svg\" alt=\"Open In Colab\"/></a>"
      ]
    },
    {
      "cell_type": "markdown",
      "source": [
        "Página de código para atividade online do dia 24/02/2025."
      ],
      "metadata": {
        "id": "HF_kwjx8Pkgv"
      }
    },
    {
      "cell_type": "code",
      "execution_count": 4,
      "metadata": {
        "id": "jXh1q1DPOIyn"
      },
      "outputs": [],
      "source": [
        "# Calculadora de Índice de Massa Corporal (IMC)\n",
        "\n",
        "# Função para calcular o IMC\n",
        "def calcular_imc(peso, altura):\n",
        "    \"\"\"\n",
        "    Calcula o Índice de Massa Corporal (IMC) com base no peso e altura fornecidos.\n",
        "\n",
        "    :param peso: Peso da pessoa em quilogramas (kg)\n",
        "    :param altura: Altura da pessoa em metros (m)\n",
        "    :return: Valor do IMC\n",
        "    \"\"\"\n",
        "    imc = peso / (altura ** 2)  # Fórmula do IMC: peso / (altura * altura)\n",
        "    return imc"
      ]
    },
    {
      "cell_type": "code",
      "source": [
        "# Função para classificar o IMC\n",
        "def classificar_imc(imc):\n",
        "    \"\"\"\n",
        "    Classifica o IMC em categorias de acordo com a tabela padrão.\n",
        "\n",
        "    :param imc: Valor do IMC calculado\n",
        "    :return: Classificação do IMC\n",
        "    \"\"\"\n",
        "    if imc < 18.5:\n",
        "        return \"Abaixo do peso\"\n",
        "    elif 18.5 <= imc < 24.9:\n",
        "        return \"Peso normal\"\n",
        "    elif 25 <= imc < 29.9:\n",
        "        return \"Sobrepeso\"\n",
        "    elif 30 <= imc < 34.9:\n",
        "        return \"Obesidade grau 1\"\n",
        "    elif 35 <= imc < 39.9:\n",
        "        return \"Obesidade grau 2\"\n",
        "    else:\n",
        "        return \"Obesidade grau 3\"\n"
      ],
      "metadata": {
        "id": "-Ng8d3X9SltE"
      },
      "execution_count": 5,
      "outputs": []
    },
    {
      "cell_type": "code",
      "source": [
        "# Função para ajustar o IMC com base no sexo\n",
        "def ajustar_imc_por_sexo(imc, sexo):\n",
        "    \"\"\"\n",
        "    Faz um ajuste no IMC considerando diferenças entre homens e mulheres.\n",
        "    Mulheres tendem a ter um percentual de gordura maior, então o IMC pode ser levemente ajustado.\n",
        "    \"\"\"\n",
        "    if sexo.lower() == \"feminino\":\n",
        "        return imc * 0.95  # Ajuste de -5% no IMC para mulheres\n",
        "    elif sexo.lower() == \"masculino\":\n",
        "        return imc * 1.05  # Ajuste de +5% no IMC para homens\n",
        "    return imc  # Sem alteração se a entrada for inválida"
      ],
      "metadata": {
        "id": "k9quWk0_ZTMA"
      },
      "execution_count": 6,
      "outputs": []
    },
    {
      "cell_type": "code",
      "source": [
        "def obter_entrada():\n",
        "    while True:\n",
        "        try:\n",
        "            peso = float(input(\"Digite o seu peso em kg: \"))  # Solicita o peso em kg\n",
        "            altura = float(input(\"Digite a sua altura em metros: \"))  # Solicita a altura em metros\n",
        "            sexo = str(input(\"Digite seu sexo (Masculino/Feminino): \").strip().lower())  # Entrada do sexo\n",
        "\n",
        "            # Validar entrada\n",
        "            if peso <= 0 or altura <= 0:\n",
        "                print(\"Erro: O peso e a altura devem ser valores positivos.\")\n",
        "                continue  # Volta para o início do loop se a entrada for inválida\n",
        "\n",
        "            return peso, altura, sexo  # Retorna os valores se tudo estiver correto\n",
        "\n",
        "        except ValueError:\n",
        "            print(\"Erro: Por favor, insira valores válidos para peso, altura e sexo.\")\n"
      ],
      "metadata": {
        "id": "kwHaH4XeVZSC"
      },
      "execution_count": 13,
      "outputs": []
    },
    {
      "cell_type": "code",
      "source": [
        "def main():\n",
        "  try:\n",
        "    peso, altura, sexo = obter_entrada()\n",
        "    imc = calcular_imc(peso,altura)\n",
        "    # Ajusta o IMC de acordo com o sexo\n",
        "    imc_ajustado = ajustar_imc_por_sexo(imc, sexo)\n",
        "\n",
        "    # Classifica o IMC ajustado\n",
        "    classificacao = classificar_imc(imc_ajustado)\n",
        "\n",
        "    # Exibe o resultado\n",
        "    print(f\"Seu IMC ajustado é: {imc_ajustado:.2f}\")  # Exibe o IMC com duas casas decimais\n",
        "    print(f\"Classificação: {classificacao}\")  # Exibe a classificação do IMC\n",
        "  except ValueError:\n",
        "    print(\"Por favor, insira valores numéricos válidos para peso e altura.\")  # Mensagem de erro para entradas inválidas\n",
        "main()"
      ],
      "metadata": {
        "id": "s3m5gItSYbWh",
        "outputId": "711991d1-8050-4fb9-de58-e7371592936e",
        "colab": {
          "base_uri": "https://localhost:8080/"
        }
      },
      "execution_count": 15,
      "outputs": [
        {
          "output_type": "stream",
          "name": "stdout",
          "text": [
            "Digite o seu peso em kg: 70\n",
            "Digite a sua altura em metros: 1.74\n",
            "Digite seu sexo (Masculino/Feminino): Masculino\n",
            "Seu IMC ajustado é: 24.28\n",
            "Classificação: Peso normal\n"
          ]
        }
      ]
    },
    {
      "cell_type": "code",
      "source": [
        "# # Entrada de dados pelo usuário\n",
        "# try:\n",
        "#     peso = float(input(\"Digite o seu peso em kg: \"))  # Solicita o peso em kg\n",
        "#     altura = float(input(\"Digite a sua altura em metros: \"))  # Solicita a altura em metros\n",
        "\n",
        "#     # Calcula o IMC\n",
        "#     imc = calcular_imc(peso, altura)\n",
        "\n",
        "#     # Classifica o IMC\n",
        "#     classificacao = classificar_imc(imc)\n",
        "\n",
        "#     # Exibe o resultado\n",
        "#     print(f\"Seu IMC é: {imc:.2f}\")  # Exibe o IMC com duas casas decimais\n",
        "#     print(f\"Classificação: {classificacao}\")  # Exibe a classificação do IMC\n",
        "\n",
        "# except ValueError:\n",
        "#     print(\"Por favor, insira valores numéricos válidos para peso e altura.\")  # Mensagem de erro para entradas inválidas"
      ],
      "metadata": {
        "id": "8a4N61NcSpPy"
      },
      "execution_count": null,
      "outputs": []
    }
  ]
}